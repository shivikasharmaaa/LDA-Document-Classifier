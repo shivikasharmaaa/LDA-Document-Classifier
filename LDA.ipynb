{
 "cells": [
  {
   "cell_type": "markdown",
   "metadata": {
    "id": "cYS4xIuCZ7xi"
   },
   "source": [
    "# Latent Dirichlet Allocation\n",
    "\n",
    "_Done By: Shivika Sharma_\n"
   ]
  },
  {
   "cell_type": "markdown",
   "metadata": {
    "id": "kchiBofIaGw_"
   },
   "source": [
    "<b>Latent Dirichlet Allocation</b> is a model used to learn _latent topics_ present in the corpus. The output of LDA can further be used for tasks like document classification. <br>\n",
    "\n",
    "This script is an attempt to a simpler version of implement latent dirichlet allocation from scratch to cluster documents using Markov Chain Monte Carlo Method (i.e. using Gibbs sampling) for a particular training dataset without actually learning α or β LDA parameters.\n",
    "\n"
   ]
  },
  {
   "cell_type": "markdown",
   "metadata": {},
   "source": [
    "The dataset used in the script is the 20 Newsgroups dataset imported from sklearn. <br>\n",
    "For sake of computation, the script only focuses on two groups in the dataset. These 2 groups are those with the highest number of words (17 and 2) since that gives more data in training the simple LDA model. <br>\n",
    "Thus, filtering out all those sample points where the y labels are not 17 or 2."
   ]
  },
  {
   "cell_type": "markdown",
   "metadata": {},
   "source": [
    "The script then makes use of the output of LDA to classify the documents using Support Vector Machines from sklearn library"
   ]
  },
  {
   "cell_type": "markdown",
   "metadata": {
    "id": "6GfAcQ1dcDyQ"
   },
   "source": [
    "## Importing Libraries"
   ]
  },
  {
   "cell_type": "code",
   "execution_count": 2,
   "metadata": {
    "id": "YlR4tUiWZ5zA"
   },
   "outputs": [],
   "source": [
    "import pandas as pd\n",
    "import numpy as np\n",
    "import matplotlib.pyplot as plt\n",
    "from collections import Counter\n",
    "import random\n",
    "import re\n",
    "from tqdm import tqdm"
   ]
  },
  {
   "cell_type": "code",
   "execution_count": 3,
   "metadata": {
    "colab": {
     "base_uri": "https://localhost:8080/"
    },
    "id": "K0twAsDqTTjm",
    "outputId": "266db41b-ec4f-4707-b2e0-89e3b86405af"
   },
   "outputs": [
    {
     "name": "stdout",
     "output_type": "stream",
     "text": [
      "Requirement already satisfied: nltk in /opt/anaconda3/lib/python3.9/site-packages (3.7)\n",
      "Requirement already satisfied: regex>=2021.8.3 in /opt/anaconda3/lib/python3.9/site-packages (from nltk) (2022.7.9)\n",
      "Requirement already satisfied: click in /opt/anaconda3/lib/python3.9/site-packages (from nltk) (8.0.4)\n",
      "Requirement already satisfied: joblib in /opt/anaconda3/lib/python3.9/site-packages (from nltk) (1.1.0)\n",
      "Requirement already satisfied: tqdm in /opt/anaconda3/lib/python3.9/site-packages (from nltk) (4.64.1)\n",
      "Requirement already satisfied: gensim in /opt/anaconda3/lib/python3.9/site-packages (4.1.2)\n",
      "Requirement already satisfied: numpy>=1.17.0 in /opt/anaconda3/lib/python3.9/site-packages (from gensim) (1.21.5)\n",
      "Requirement already satisfied: scipy>=0.18.1 in /opt/anaconda3/lib/python3.9/site-packages (from gensim) (1.9.1)\n",
      "Requirement already satisfied: smart-open>=1.8.1 in /opt/anaconda3/lib/python3.9/site-packages (from gensim) (5.2.1)\n"
     ]
    }
   ],
   "source": [
    "!pip3 install nltk\n",
    "from nltk.stem.porter import PorterStemmer\n",
    "from nltk.corpus import stopwords"
   ]
  },
  {
   "cell_type": "code",
   "execution_count": 73,
   "metadata": {
    "id": "f7e-3wUnUO30"
   },
   "outputs": [
    {
     "name": "stderr",
     "output_type": "stream",
     "text": [
      "[nltk_data] Downloading package stopwords to\n",
      "[nltk_data]     /Users/shivika/nltk_data...\n",
      "[nltk_data]   Package stopwords is already up-to-date!\n"
     ]
    },
    {
     "data": {
      "text/plain": [
       "True"
      ]
     },
     "execution_count": 73,
     "metadata": {},
     "output_type": "execute_result"
    }
   ],
   "source": [
    "from nltk.corpus import stopwords\n",
    "import nltk\n",
    "nltk.download('stopwords')"
   ]
  },
  {
   "cell_type": "code",
   "execution_count": 549,
   "metadata": {},
   "outputs": [],
   "source": [
    "from sklearn import metrics\n",
    "from sklearn import svm\n",
    "from collections import defaultdict"
   ]
  },
  {
   "cell_type": "markdown",
   "metadata": {
    "id": "zagjMRmjfDow"
   },
   "source": [
    "## Analysis of the dataset"
   ]
  },
  {
   "cell_type": "code",
   "execution_count": 454,
   "metadata": {
    "id": "XkdXxny9aGIW"
   },
   "outputs": [],
   "source": [
    "# Importing the dataset\n",
    "from sklearn.datasets import fetch_20newsgroups\n",
    "from collections import defaultdict\n",
    "newsgroups = fetch_20newsgroups()\n",
    "X1 = newsgroups.data\n",
    "y1 = newsgroups.target"
   ]
  },
  {
   "cell_type": "code",
   "execution_count": 456,
   "metadata": {},
   "outputs": [
    {
     "data": {
      "text/plain": [
       "{0, 1, 2, 3, 4, 5, 6, 7, 8, 9, 10, 11, 12, 13, 14, 15, 16, 17, 18, 19}"
      ]
     },
     "execution_count": 456,
     "metadata": {},
     "output_type": "execute_result"
    }
   ],
   "source": [
    "set(y1)"
   ]
  },
  {
   "cell_type": "code",
   "execution_count": 550,
   "metadata": {},
   "outputs": [],
   "source": [
    "words = defaultdict(int)\n",
    "for label in set(y1):\n",
    "    temp_X = ([x for i, x in enumerate(X1) if y1[i]==label])\n",
    "    if temp_X:\n",
    "        words[label] = len(list(set([word for sample in temp_X for word in sample.split()])))\n",
    "    else:\n",
    "        words[label] = 0\n",
    "words = dict(sorted(words.items(), key=lambda item: item[1]))"
   ]
  },
  {
   "cell_type": "code",
   "execution_count": 551,
   "metadata": {},
   "outputs": [
    {
     "data": {
      "text/plain": [
       "{4: 18937,\n",
       " 6: 21251,\n",
       " 9: 21389,\n",
       " 3: 21570,\n",
       " 12: 21767,\n",
       " 8: 21957,\n",
       " 19: 22097,\n",
       " 7: 22330,\n",
       " 0: 23253,\n",
       " 1: 26184,\n",
       " 15: 27595,\n",
       " 18: 27639,\n",
       " 10: 27829,\n",
       " 16: 27850,\n",
       " 5: 28208,\n",
       " 13: 28747,\n",
       " 11: 29811,\n",
       " 14: 31454,\n",
       " 17: 31984,\n",
       " 2: 36164}"
      ]
     },
     "execution_count": 551,
     "metadata": {},
     "output_type": "execute_result"
    }
   ],
   "source": [
    "words"
   ]
  },
  {
   "cell_type": "markdown",
   "metadata": {},
   "source": [
    "Clearly groups 17 and 2 have the most number of words"
   ]
  },
  {
   "cell_type": "code",
   "execution_count": 553,
   "metadata": {},
   "outputs": [
    {
     "data": {
      "image/png": "[encoded data removed]",
      "text/plain": [
       "<Figure size 450x450 with 1 Axes>"
      ]
     },
     "metadata": {},
     "output_type": "display_data"
    }
   ],
   "source": [
    "# Analysing the distribution of data between labels\n",
    "fig, ax = plt.subplots(figsize=(4.5, 4.5))\n",
    "ax.pie(words.values(), labels = words.keys(), autopct='%1.1f%%')\n",
    "ax.set_title('#Words distribution')\n",
    "plt.axis('equal')\n",
    "plt.show()"
   ]
  },
  {
   "cell_type": "code",
   "execution_count": 495,
   "metadata": {
    "id": "TEmm0zYLi6gJ"
   },
   "outputs": [],
   "source": [
    "X = [x for i, x in enumerate(X1) if y1[i] in [17, 2]]\n",
    "y = [y1[i] for i, y_i in enumerate(y1) if y_i in [17, 2]] "
   ]
  },
  {
   "cell_type": "code",
   "execution_count": 496,
   "metadata": {
    "colab": {
     "base_uri": "https://localhost:8080/"
    },
    "id": "JU9DwTaScQ_G",
    "outputId": "cfe12ecb-7704-43b5-9bf1-9239135a87e6"
   },
   "outputs": [
    {
     "name": "stdout",
     "output_type": "stream",
     "text": [
      "Number of documents -  1155\n",
      "Supervised labels of documents -  {17, 2}\n",
      "\n",
      "Sample document - \n",
      " From: holmes7000@iscsvax.uni.edu\n",
      "Subject: WIn 3.0 ICON HELP PLEASE!\n",
      "Organization: University of Northern Iowa\n",
      "Lines: 10\n",
      "\n",
      "I have win 3.0 and downloaded several icons and BMP's but I can't figure out\n",
      "how to change the \"wallpaper\" or use the icons.  Any help would be appreciated.\n",
      "\n",
      "\n",
      "Thanx,\n",
      "\n",
      "-Brando\n",
      "\n",
      "PS Please E-mail me\n",
      "\n",
      "\n"
     ]
    }
   ],
   "source": [
    "# Analysing the dataset\n",
    "print(\"Number of documents - \", len(y))\n",
    "print(\"Supervised labels of documents - \", set(y))\n",
    "print(\"\\nSample document - \\n\", X[0])\n",
    "\n",
    "# Checking if the dataset is complete\n",
    "assert(len(X) == len(y))"
   ]
  },
  {
   "cell_type": "code",
   "execution_count": 497,
   "metadata": {
    "colab": {
     "base_uri": "https://localhost:8080/",
     "height": 411
    },
    "id": "Otv1m_bZcTBl",
    "outputId": "b6eb64a9-56c4-40e6-fb4a-08fb1af43fb6"
   },
   "outputs": [
    {
     "data": {
      "image/png": "[encoded data removed]",
      "text/plain": [
       "<Figure size 450x450 with 1 Axes>"
      ]
     },
     "metadata": {},
     "output_type": "display_data"
    }
   ],
   "source": [
    "# Analysing the distribution of data between labels\n",
    "label_freq = Counter(y)\n",
    "fig, ax = plt.subplots(figsize=(4.5, 4.5))\n",
    "ax.pie(label_freq.values(), labels = label_freq.keys(), autopct='%1.1f%%')\n",
    "ax.set_title('Label distribution')\n",
    "plt.axis('equal')\n",
    "plt.show()"
   ]
  },
  {
   "cell_type": "markdown",
   "metadata": {
    "id": "pHVAV6MAi2ir"
   },
   "source": [
    "## Test-Train Split"
   ]
  },
  {
   "cell_type": "markdown",
   "metadata": {
    "id": "TeRBL4iyjXRe"
   },
   "source": [
    "Splitting the dataset into 80% test and 20% training set after shuffling it"
   ]
  },
  {
   "cell_type": "code",
   "execution_count": 498,
   "metadata": {
    "id": "XfqwRVokj-oA"
   },
   "outputs": [],
   "source": [
    "# Shuffling the dataset\n",
    "data = list(zip(X, y))\n",
    "random.shuffle(data)\n",
    "X, y = zip(*data)\n",
    "X = list(X)"
   ]
  },
  {
   "cell_type": "code",
   "execution_count": 499,
   "metadata": {},
   "outputs": [],
   "source": [
    "len_train = int(0.8*len(y))"
   ]
  },
  {
   "cell_type": "code",
   "execution_count": 500,
   "metadata": {
    "id": "of4WhYEEjGcx"
   },
   "outputs": [],
   "source": [
    "X_train = X[:len_train]\n",
    "y_train = y[:len_train]\n",
    "\n",
    "X_test = X[len_train:]\n",
    "y_test = y[len_train:]"
   ]
  },
  {
   "cell_type": "code",
   "execution_count": 501,
   "metadata": {},
   "outputs": [
    {
     "data": {
      "text/plain": [
       "924"
      ]
     },
     "execution_count": 501,
     "metadata": {},
     "output_type": "execute_result"
    }
   ],
   "source": [
    "len(X_train)"
   ]
  },
  {
   "cell_type": "code",
   "execution_count": 502,
   "metadata": {},
   "outputs": [
    {
     "data": {
      "text/plain": [
       "231"
      ]
     },
     "execution_count": 502,
     "metadata": {},
     "output_type": "execute_result"
    }
   ],
   "source": [
    "len(X_test)"
   ]
  },
  {
   "cell_type": "markdown",
   "metadata": {
    "id": "JlfuvnHyiHEZ"
   },
   "source": [
    "## Data Preprocessing \n",
    "Preprocessing is very important since the model is trained on the words in documents. Removal of unnecessary words and stemming is vital for the performance of the model as well as to decrease the vocabulary and thus computation (in terms of both Time and Space). <br> <br>\n",
    "Preprocessing done - \n",
    "- Removal of special characters\n",
    "- Removal of stopwords\n",
    "- Lowercasing \n",
    "- Stemming\n",
    "- Removal of numbers"
   ]
  },
  {
   "cell_type": "code",
   "execution_count": 503,
   "metadata": {
    "id": "LhDN6oGFdfuJ"
   },
   "outputs": [],
   "source": [
    "stop_words = [\"from\", \"subject\", \"re\", \"organization\", \"lines\", \"thanks\"]\n",
    "special_chars = ['!', '#', '$', '%', '^', '&', '*', '-', '+', '=', '~', '\\\\', '|', '/', ':', ';', ',', '.', '?', ')', '(', '{', '}', '<', '>', '[', ']', '~', '.', '\"', \"'\", '_']"
   ]
  },
  {
   "cell_type": "code",
   "execution_count": 504,
   "metadata": {
    "id": "CSeSBQT5kw_D"
   },
   "outputs": [],
   "source": [
    "# This function removes the special characters provided\n",
    "# It also removes email addresses and new line characters from text and \n",
    "# separates words separated by hyphens\n",
    "def remove_special_chars(X_train, special_chars = special_chars):\n",
    "  translator = str.maketrans('', '', ''.join(special_chars))\n",
    "  for i in range(len(X_train)):\n",
    "    X_train[i] = re.sub(r'\\S+@\\S+', '', X_train[i])\n",
    "    X_train[i] = re.sub(r'@\\w+', '', X_train[i])\n",
    "    X_train[i] = X_train[i].replace('-', ' ')\n",
    "    X_train[i] = X_train[i].replace('\\n', ' ')\n",
    "    X_train[i] = X_train[i].translate(translator)"
   ]
  },
  {
   "cell_type": "code",
   "execution_count": 505,
   "metadata": {
    "id": "2KwCDM28lzf1"
   },
   "outputs": [],
   "source": [
    "def remove_stop_words(X_train, stopwords = stopwords):\n",
    "  for i in range(len(X_train)):\n",
    "    words = X_train[i].split()\n",
    "    words = [word for word in words if word.lower() not in stopwords]\n",
    "    X_train[i] = ' '.join(words)"
   ]
  },
  {
   "cell_type": "code",
   "execution_count": 506,
   "metadata": {
    "id": "HJUAkF7tp67a"
   },
   "outputs": [],
   "source": [
    "def lowercase(X_train):\n",
    "  for i in range(len(X_train)):\n",
    "    X_train[i] = X_train[i].lower()"
   ]
  },
  {
   "cell_type": "code",
   "execution_count": 507,
   "metadata": {
    "id": "Y_aBxO0khFYh"
   },
   "outputs": [],
   "source": [
    "def stemming(X_train):\n",
    "  stemmer = PorterStemmer()\n",
    "  for i in range(len(X_train)):\n",
    "    X_train[i] = [stemmer.stem(word) for word in X_train[i].split()]\n",
    "    X_train[i] = ' '.join(X_train[i])"
   ]
  },
  {
   "cell_type": "code",
   "execution_count": 508,
   "metadata": {
    "id": "SGCB6Zwrj-0N"
   },
   "outputs": [],
   "source": [
    "def remove_nums(X_train):\n",
    "  for i in range(len(X_train)):\n",
    "    X_train[i] = re.sub(r'\\d+', '', X_train[i])"
   ]
  },
  {
   "cell_type": "code",
   "execution_count": 509,
   "metadata": {},
   "outputs": [],
   "source": [
    "def preprocess_data(X):\n",
    "    remove_special_chars(X)\n",
    "    remove_stop_words(X, stop_words)\n",
    "    remove_stop_words(X, stopwords.words('english'))\n",
    "    lowercase(X)\n",
    "    stemming(X)\n",
    "    remove_nums(X)"
   ]
  },
  {
   "cell_type": "code",
   "execution_count": 510,
   "metadata": {
    "colab": {
     "base_uri": "https://localhost:8080/",
     "height": 143
    },
    "id": "FQnDcUWOnoXo",
    "outputId": "a8cd4005-b8f9-418a-aba7-57325839cae0"
   },
   "outputs": [
    {
     "data": {
      "text/plain": [
       "\"From: A.D.Bailey@lut.ac.uk\\nSubject: Re: Utility for updating Win.ini and system.ini\\nReply-To: A.D.Bailey@lut.ac.uk (Adrian D.Bailey)\\nOrganization: Loughborough University, UK.\\nLines: 11\\n\\nIn article <1993Apr20.085638.29338@news.uit.no> sp@odin.NoSubdomain.NoDomain (Svein Pedersen) writes:\\n>I nead a utility for updating (deleting, adding, changing) *.ini files for Windows. \\n>\\n>Do I find it on any FTP host?\\n>\\n>Svein\\n>\\n\\n\\nIn Windows 3.0 there is a built-in called sysedit.exe that is just what you\\nneed.   Windows 3.1 I don't know......\\n\""
      ]
     },
     "execution_count": 510,
     "metadata": {},
     "output_type": "execute_result"
    }
   ],
   "source": [
    "X_train[0]"
   ]
  },
  {
   "cell_type": "code",
   "execution_count": 511,
   "metadata": {
    "id": "OLXBzAwqlV-r"
   },
   "outputs": [],
   "source": [
    "remove_special_chars(X_train)"
   ]
  },
  {
   "cell_type": "code",
   "execution_count": 512,
   "metadata": {
    "colab": {
     "base_uri": "https://localhost:8080/",
     "height": 143
    },
    "id": "CAyaQa5olYs2",
    "outputId": "5c16cb56-8bc5-4152-c980-8a9d97bfc865"
   },
   "outputs": [
    {
     "data": {
      "text/plain": [
       "'From  Subject Re Utility for updating Winini and systemini Reply To  Adrian DBailey Organization Loughborough University UK Lines 11  In article   Svein Pedersen writes I nead a utility for updating deleting adding changing ini files for Windows   Do I find it on any FTP host  Svein    In Windows 30 there is a built in called syseditexe that is just what you need   Windows 31 I dont know '"
      ]
     },
     "execution_count": 512,
     "metadata": {},
     "output_type": "execute_result"
    }
   ],
   "source": [
    "X_train[0]"
   ]
  },
  {
   "cell_type": "code",
   "execution_count": 513,
   "metadata": {
    "colab": {
     "base_uri": "https://localhost:8080/"
    },
    "id": "hJiuNEBclanb",
    "outputId": "6f18e8ca-1cd9-43cd-ad13-d1c9420c7474"
   },
   "outputs": [
    {
     "name": "stderr",
     "output_type": "stream",
     "text": [
      "[nltk_data] Downloading package stopwords to\n",
      "[nltk_data]     /Users/shivika/nltk_data...\n",
      "[nltk_data]   Package stopwords is already up-to-date!\n"
     ]
    }
   ],
   "source": [
    "remove_stop_words(X_train, stop_words)\n",
    "nltk.download('stopwords')\n",
    "remove_stop_words(X_train, stopwords.words('english'))\n"
   ]
  },
  {
   "cell_type": "code",
   "execution_count": 514,
   "metadata": {
    "colab": {
     "base_uri": "https://localhost:8080/",
     "height": 89
    },
    "id": "9CET7S_BolT_",
    "outputId": "adb452ab-b69e-4cc7-8c6a-3fd383c86d28"
   },
   "outputs": [
    {
     "data": {
      "text/plain": [
       "'Utility updating Winini systemini Reply Adrian DBailey Loughborough University UK 11 article Svein Pedersen writes nead utility updating deleting adding changing ini files Windows find FTP host Svein Windows 30 built called syseditexe need Windows 31 dont know'"
      ]
     },
     "execution_count": 514,
     "metadata": {},
     "output_type": "execute_result"
    }
   ],
   "source": [
    "X_train[0]"
   ]
  },
  {
   "cell_type": "code",
   "execution_count": 515,
   "metadata": {
    "id": "isOdNFVhomdW"
   },
   "outputs": [],
   "source": [
    "lowercase(X_train)"
   ]
  },
  {
   "cell_type": "code",
   "execution_count": 516,
   "metadata": {
    "colab": {
     "base_uri": "https://localhost:8080/",
     "height": 89
    },
    "id": "tGzUHMgmqGq_",
    "outputId": "1ad0bd29-f16f-4c1c-a9ee-a3f23e471770"
   },
   "outputs": [
    {
     "data": {
      "text/plain": [
       "'utility updating winini systemini reply adrian dbailey loughborough university uk 11 article svein pedersen writes nead utility updating deleting adding changing ini files windows find ftp host svein windows 30 built called syseditexe need windows 31 dont know'"
      ]
     },
     "execution_count": 516,
     "metadata": {},
     "output_type": "execute_result"
    }
   ],
   "source": [
    "X_train[0]"
   ]
  },
  {
   "cell_type": "code",
   "execution_count": 517,
   "metadata": {
    "id": "dAj3LEYRhaCU"
   },
   "outputs": [],
   "source": [
    "stemming(X_train)"
   ]
  },
  {
   "cell_type": "code",
   "execution_count": 518,
   "metadata": {
    "colab": {
     "base_uri": "https://localhost:8080/",
     "height": 89
    },
    "id": "1JYG07FoheFA",
    "outputId": "a34c9faa-523a-44cc-d214-190c91ee14f5"
   },
   "outputs": [
    {
     "data": {
      "text/plain": [
       "'util updat winini systemini repli adrian dbailey loughborough univers uk 11 articl svein pedersen write nead util updat delet ad chang ini file window find ftp host svein window 30 built call syseditex need window 31 dont know'"
      ]
     },
     "execution_count": 518,
     "metadata": {},
     "output_type": "execute_result"
    }
   ],
   "source": [
    "X_train[0]"
   ]
  },
  {
   "cell_type": "code",
   "execution_count": 519,
   "metadata": {
    "id": "6SZ102Y0kHLl"
   },
   "outputs": [],
   "source": [
    "remove_nums(X_train)"
   ]
  },
  {
   "cell_type": "code",
   "execution_count": 520,
   "metadata": {
    "colab": {
     "base_uri": "https://localhost:8080/",
     "height": 89
    },
    "id": "EnEmP371kJJM",
    "outputId": "ec32fafe-7cfb-4779-9b33-eda082f9efae"
   },
   "outputs": [
    {
     "data": {
      "text/plain": [
       "'util updat winini systemini repli adrian dbailey loughborough univers uk  articl svein pedersen write nead util updat delet ad chang ini file window find ftp host svein window  built call syseditex need window  dont know'"
      ]
     },
     "execution_count": 520,
     "metadata": {},
     "output_type": "execute_result"
    }
   ],
   "source": [
    "X_train[0]"
   ]
  },
  {
   "cell_type": "code",
   "execution_count": 521,
   "metadata": {},
   "outputs": [],
   "source": [
    "preprocess_data(X_train)"
   ]
  },
  {
   "cell_type": "markdown",
   "metadata": {
    "id": "yIfJ-SA8piJb"
   },
   "source": [
    "## Training a simple LDA model using Gibbs Sampling"
   ]
  },
  {
   "cell_type": "code",
   "execution_count": 522,
   "metadata": {
    "id": "VouPwLPbqstd"
   },
   "outputs": [],
   "source": [
    "# Initialising hyperparameters\n",
    "num_topics = 10\n",
    "alpha = 1\n",
    "beta = 1\n",
    "num_iters = 20"
   ]
  },
  {
   "cell_type": "code",
   "execution_count": 523,
   "metadata": {
    "id": "oIbMEEU8sozd"
   },
   "outputs": [],
   "source": [
    "# Vocabulary in dataset\n",
    "vocab = list(set([word for sample in X_train for word in sample.split()]))"
   ]
  },
  {
   "cell_type": "code",
   "execution_count": 524,
   "metadata": {
    "colab": {
     "base_uri": "https://localhost:8080/"
    },
    "id": "KGyb_n5UhtMu",
    "outputId": "0c10c24d-63a2-4f95-983d-9da3a470d583"
   },
   "outputs": [
    {
     "data": {
      "text/plain": [
       "24779"
      ]
     },
     "execution_count": 524,
     "metadata": {},
     "output_type": "execute_result"
    }
   ],
   "source": [
    "len(vocab)"
   ]
  },
  {
   "cell_type": "code",
   "execution_count": 525,
   "metadata": {
    "id": "ogDzavFYwaKh"
   },
   "outputs": [],
   "source": [
    "# Randomly initialising words in documents to topics\n",
    "topic_assignments = np.random.randint(num_topics, size=(len(X_train), len(vocab)))"
   ]
  },
  {
   "cell_type": "code",
   "execution_count": 526,
   "metadata": {
    "colab": {
     "base_uri": "https://localhost:8080/"
    },
    "id": "S0DjEnht8ozq",
    "outputId": "1ac047b1-d01d-4ad5-90f9-b86adf9e87a6"
   },
   "outputs": [
    {
     "data": {
      "text/plain": [
       "6"
      ]
     },
     "execution_count": 526,
     "metadata": {},
     "output_type": "execute_result"
    }
   ],
   "source": [
    "topic_assignments[0][0]"
   ]
  },
  {
   "cell_type": "code",
   "execution_count": 528,
   "metadata": {
    "colab": {
     "base_uri": "https://localhost:8080/"
    },
    "id": "br7dixeu6oAM",
    "outputId": "31d34813-12d8-4a6b-cf1f-e92b42733e20"
   },
   "outputs": [
    {
     "name": "stderr",
     "output_type": "stream",
     "text": [
      "924it [02:58,  5.18it/s]\n"
     ]
    }
   ],
   "source": [
    "# Since not all words are present in every document, we set those topic assignments as -1\n",
    "for d, document in tqdm(enumerate(X_train)):\n",
    "  for j in range(len(vocab)):\n",
    "    if vocab[j] not in document.split():\n",
    "      topic_assignments[d, j] = -1 \n"
   ]
  },
  {
   "cell_type": "code",
   "execution_count": 529,
   "metadata": {
    "id": "OIyBtZUgzVZN"
   },
   "outputs": [],
   "source": [
    "# Creating dictionary to keep track of words in documents (as they can be repeated or not present in the document)\n",
    "word_to_index = {word: i for i, word in enumerate(vocab)}\n",
    "index_to_word = {i: word for word, i in word_to_index.items()}"
   ]
  },
  {
   "cell_type": "code",
   "execution_count": 530,
   "metadata": {
    "id": "jshzLaxnzb9L"
   },
   "outputs": [],
   "source": [
    "# List of topic-word count\n",
    "topic_word_count = np.zeros((num_topics, len(vocab)))\n",
    "for d, document in enumerate(X_train):\n",
    "    for w, word in enumerate(document.split()): \n",
    "        topic_word_count[topic_assignments[d,word_to_index[word]], word_to_index[word]] += 1"
   ]
  },
  {
   "cell_type": "code",
   "execution_count": 531,
   "metadata": {
    "id": "UmfeBeVh1ivk"
   },
   "outputs": [],
   "source": [
    "# List of document-topic counts\n",
    "doc_topic_count = np.zeros((len(X_train), num_topics))\n",
    "for d, document in enumerate(X_train):\n",
    "    for w, word in enumerate(document.split()): \n",
    "        doc_topic_count[d, topic_assignments[d,word_to_index[word]]] += 1"
   ]
  },
  {
   "cell_type": "code",
   "execution_count": 532,
   "metadata": {
    "id": "w7qA2AR42trf"
   },
   "outputs": [],
   "source": [
    "# Given a topic, word and document, this function \n",
    "#returns the probability of that word in the document being associated to the given topic\n",
    "def calculate_prob(topic, word, doc_index, epsilon=0.1):\n",
    "  numer = (doc_topic_count[d][topic] + alpha) * (topic_word_count[topic][word_to_index[word]])\n",
    "  denom = (np.sum(doc_topic_count[d][:]) + num_topics * alpha) * (np.sum(topic_word_count[:, word_to_index[word]]) + len(vocab) * beta)\n",
    "  return (numer/denom) + epsilon"
   ]
  },
  {
   "cell_type": "code",
   "execution_count": 533,
   "metadata": {
    "colab": {
     "base_uri": "https://localhost:8080/"
    },
    "id": "2fwkIxDe2EfQ",
    "outputId": "64627b19-3bb1-4be8-e40c-a97ccc9a382d"
   },
   "outputs": [
    {
     "name": "stderr",
     "output_type": "stream",
     "text": [
      "100%|███████████████████████████████████████████| 20/20 [05:05<00:00, 15.29s/it]\n"
     ]
    }
   ],
   "source": [
    "# Gibbs sampling\n",
    "for _ in tqdm(range(num_iters)):\n",
    "  for d, document in enumerate(X_train):\n",
    "    for w, word in enumerate(document.split()): \n",
    "\n",
    "      # Decrementing the current count\n",
    "      topic_word_count[topic_assignments[d][word_to_index[word]]][word_to_index[word]] -= 1\n",
    "      doc_topic_count[d][topic_assignments[d][word_to_index[word]]] -= 1\n",
    "\n",
    "      # Calculating the conditional probability for all topics given word w and document d\n",
    "      topic_probs = [calculate_prob(topic, word, d) for topic in range(num_topics)]\n",
    "      topic_probs = [prob/sum(topic_probs) for prob in topic_probs]\n",
    "\n",
    "      # Sampling a new topic from a multinomial distribution given topic_probs\n",
    "      topic_assignments[d][word_to_index[word]] = np.random.choice(num_topics, p=topic_probs)\n",
    "\n",
    "      # Increment values for new topic\n",
    "      topic_word_count[topic_assignments[d,word_to_index[word]]][word_to_index[word]] += 1\n",
    "      doc_topic_count[d][topic_assignments[d][word_to_index[word]]] += 1\n",
    "\n"
   ]
  },
  {
   "cell_type": "code",
   "execution_count": 534,
   "metadata": {},
   "outputs": [
    {
     "data": {
      "text/plain": [
       "array([1., 6., 4., 3., 4., 5., 3., 2., 5., 2.])"
      ]
     },
     "execution_count": 534,
     "metadata": {},
     "output_type": "execute_result"
    }
   ],
   "source": [
    "doc_topic_count[0]"
   ]
  },
  {
   "cell_type": "code",
   "execution_count": 535,
   "metadata": {
    "id": "lmd7G6hhTKzD"
   },
   "outputs": [],
   "source": [
    "# Given a topic this function returns the top 'num_top_words' words associated with it (with highest probabilities)\n",
    "def find_top_words(topic, num_top_words):\n",
    "  probs = [topic_word_count[topic][word_to_index[word]] for word in vocab]\n",
    "  indices = np.argpartition(probs, -num_top_words)[-num_top_words:]\n",
    "  return [vocab[i] for i in indices]"
   ]
  },
  {
   "cell_type": "code",
   "execution_count": 536,
   "metadata": {
    "colab": {
     "base_uri": "https://localhost:8080/"
    },
    "id": "0fvPVIqfpZ_Z",
    "outputId": "998c191d-2f6b-471e-cd40-6c0431087904"
   },
   "outputs": [
    {
     "name": "stdout",
     "output_type": "stream",
     "text": [
      "Top 10 words of topics - \n",
      "\n",
      "Topic  1\t['think', 'israel', 'write', 'articl', 'use', 'u', 'file', 'window', 'one', 'armenian']\n",
      "Topic  2\t['use', 'one', 'maxaxaxaxaxaxaxaxaxaxaxaxaxaxax', 'window', 'font', 'say', 'didnt', 'peopl', 'turkey', 'said']\n",
      "Topic  3\t['univ', 'armenian', 'write', 'one', 'window', 'articl', 'get', 'use', 'would', 'peopl']\n",
      "Topic  4\t['articl', 'one', 'turkish', 'go', 'write', 'would', 'know', 'window', 'maxaxaxaxaxaxaxaxaxaxaxaxaxaxax', 'armenian']\n",
      "Topic  5\t['u', 'right', 'use', 'peopl', 'window', 'know', 'turkish', 'say', 'one', 'maxaxaxaxaxaxaxaxaxaxaxaxaxaxax']\n",
      "Topic  6\t['articl', 'window', 'israel', 'write', 'time', 'isra', 'armenian', 'peopl', 'maxaxaxaxaxaxaxaxaxaxaxaxaxaxax', 'one']\n",
      "Topic  7\t['articl', 'write', 'maxaxaxaxaxaxaxaxaxaxaxaxaxaxax', 'one', 'armenian', 'use', 'dont', 'would', 'window', 'go']\n",
      "Topic  8\t['write', 'use', 'univ', 'file', 'jew', 'window', 'p', 'armenian', 'said', 'maxaxaxaxaxaxaxaxaxaxaxaxaxaxax']\n",
      "Topic  9\t['would', 'use', 'one', 'peopl', 'israel', 'window', 'maxaxaxaxaxaxaxaxaxaxaxaxaxaxax', 'jew', 'armenian', 'like']\n",
      "Topic  10\t['articl', 'israel', 'turkish', 'write', 'maxaxaxaxaxaxaxaxaxaxaxaxaxaxax', 'window', 'use', 'peopl', 'armenian', 'us']\n"
     ]
    }
   ],
   "source": [
    "num_top_words = 10\n",
    "print(\"Top 10 words of topics - \\n\")\n",
    "for topic in range(num_topics):\n",
    "  print(\"Topic \", topic+1, end = '\\t')\n",
    "  print(find_top_words(topic, num_top_words))"
   ]
  },
  {
   "cell_type": "markdown",
   "metadata": {},
   "source": [
    "_**Observation:**_ <br>\n",
    "- The intersection of the set of top words associated with the topics has high cardinality. \n",
    "- This indicates that the topics have less semantic meaning."
   ]
  },
  {
   "cell_type": "code",
   "execution_count": 537,
   "metadata": {
    "id": "fWFzM5RlF548"
   },
   "outputs": [],
   "source": [
    "# Given a document this function returns a list of the probabilities with which it is associated to a topic\n",
    "def find_theta(d):\n",
    "  probs = [(doc_topic_count[d][k]/np.sum(doc_topic_count[d][:])) for k in range(num_topics)]\n",
    "  return probs"
   ]
  },
  {
   "cell_type": "code",
   "execution_count": 538,
   "metadata": {
    "id": "DBCGm84xfC2S"
   },
   "outputs": [],
   "source": [
    "SVM_X = []\n",
    "# Finding the topic probabilities for each document as the sample points for SVM\n",
    "for d, document in enumerate(X_train):\n",
    "  SVM_X.append(find_theta(d))\n",
    "SVM_y = y_train"
   ]
  },
  {
   "cell_type": "code",
   "execution_count": 539,
   "metadata": {
    "id": "BLOCHVg6fXe-"
   },
   "outputs": [
    {
     "data": {
      "text/plain": [
       "SVC()"
      ]
     },
     "execution_count": 539,
     "metadata": {},
     "output_type": "execute_result"
    }
   ],
   "source": [
    "clf = svm.SVC(kernel='rbf')\n",
    "clf.fit(SVM_X, SVM_y)"
   ]
  },
  {
   "cell_type": "code",
   "execution_count": 540,
   "metadata": {
    "id": "BakXIUbXh-aO"
   },
   "outputs": [
    {
     "name": "stdout",
     "output_type": "stream",
     "text": [
      "Accuracy: 0.7348484848484849\n"
     ]
    }
   ],
   "source": [
    "y_pred = clf.predict(SVM_X)\n",
    "print(\"Accuracy:\",metrics.accuracy_score(y_train, y_pred))"
   ]
  },
  {
   "cell_type": "code",
   "execution_count": 541,
   "metadata": {
    "colab": {
     "base_uri": "https://localhost:8080/"
    },
    "id": "S62QDd-hgUL6",
    "outputId": "2d22933f-ff0b-4ba2-c3dd-a56d12990d06"
   },
   "outputs": [
    {
     "name": "stdout",
     "output_type": "stream",
     "text": [
      "Predicted labels:  Counter({17: 466, 2: 458})\n",
      "Actual labels:  Counter({2: 487, 17: 437})\n"
     ]
    }
   ],
   "source": [
    "freq = Counter(y_pred)\n",
    "print(\"Predicted labels: \", freq)\n",
    "freq = Counter(SVM_y)\n",
    "print(\"Actual labels: \", freq)"
   ]
  },
  {
   "cell_type": "markdown",
   "metadata": {},
   "source": [
    "## Using this trained model on the test data"
   ]
  },
  {
   "cell_type": "code",
   "execution_count": 542,
   "metadata": {},
   "outputs": [],
   "source": [
    "# Given a word, this function returns the topic it is most likely associated to\n",
    "def find_word_topic(word):\n",
    "    probs = topic_word_count[:, word_to_index[word]]\n",
    "    return np.argmax(probs)"
   ]
  },
  {
   "cell_type": "code",
   "execution_count": 544,
   "metadata": {},
   "outputs": [],
   "source": [
    "preprocess_data(X_test)"
   ]
  },
  {
   "cell_type": "code",
   "execution_count": 546,
   "metadata": {},
   "outputs": [
    {
     "name": "stderr",
     "output_type": "stream",
     "text": [
      "231it [00:06, 36.91it/s]\n"
     ]
    }
   ],
   "source": [
    "X_SVM_test = []\n",
    "# Finding the topic probabilities for each test document as the sample points for SVM\n",
    "for d, document in tqdm(enumerate(X_test)):\n",
    "    doc_topics = defaultdict(int)\n",
    "    for w, word in enumerate(document.split()):\n",
    "        if word in vocab:\n",
    "            if find_word_topic(word) > -1:\n",
    "                doc_topics[find_word_topic(word)] += 1\n",
    "                \n",
    "    theta = [doc_topics[t] for t in range(num_topics)]\n",
    "    theta = [t/sum(theta) for t in theta]\n",
    "    X_SVM_test.append(theta)\n",
    "            "
   ]
  },
  {
   "cell_type": "code",
   "execution_count": 548,
   "metadata": {},
   "outputs": [
    {
     "name": "stdout",
     "output_type": "stream",
     "text": [
      "Accuracy: 0.5800865800865801\n"
     ]
    }
   ],
   "source": [
    "y_test_pred = clf.predict(X_SVM_test)\n",
    "print(\"Accuracy:\",metrics.accuracy_score(y_test_pred, y_test))"
   ]
  },
  {
   "cell_type": "markdown",
   "metadata": {},
   "source": [
    "_**Conclusions:**_\n",
    "- The model takes about 8 minutes to train. \n",
    "- The accuracy of the classifier on the training data is about 74%. Although, the classifier performs poorly on the test set since the accuracy is only a little over 58%. <br>\n",
    "- We can further improve this model by \n",
    "    - Taking a larger dataset\n",
    "    - Implementing LDA in a way to learn the model parameters α and β. \n",
    "    - Use a validation set to find the optimal number of iterations for the gibbs sampler.\n",
    "    - Using Tf-idf values for the terms in the documents to give more weightage to terms with higher Tf-idf values in a particular document."
   ]
  },
  {
   "cell_type": "code",
   "execution_count": null,
   "metadata": {},
   "outputs": [],
   "source": []
  }
 ],
 "metadata": {
  "colab": {
   "provenance": []
  },
  "kernelspec": {
   "display_name": "Python 3 (ipykernel)",
   "language": "python",
   "name": "python3"
  },
  "language_info": {
   "codemirror_mode": {
    "name": "ipython",
    "version": 3
   },
   "file_extension": ".py",
   "mimetype": "text/x-python",
   "name": "python",
   "nbconvert_exporter": "python",
   "pygments_lexer": "ipython3",
   "version": "3.9.13"
  }
 },
 "nbformat": 4,
 "nbformat_minor": 1
}
